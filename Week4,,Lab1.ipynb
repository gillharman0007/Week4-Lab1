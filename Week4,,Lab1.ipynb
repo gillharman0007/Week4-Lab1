{
 "cells": [
  {
   "cell_type": "code",
   "execution_count": 1,
   "id": "6722b018-acb5-48fe-883f-3a5088c57eb6",
   "metadata": {},
   "outputs": [
    {
     "name": "stdout",
     "output_type": "stream",
     "text": [
      "Hello, world!\n"
     ]
    }
   ],
   "source": [
    "def say_hello():\n",
    "    print(\"Hello, world!\")\n",
    "\n",
    "say_hello()"
   ]
  },
  {
   "cell_type": "code",
   "execution_count": 3,
   "id": "5cce41ca-ac1f-4e10-bdd5-f3948221b8d9",
   "metadata": {},
   "outputs": [
    {
     "name": "stdout",
     "output_type": "stream",
     "text": [
      "Greetings, Everyone!\n"
     ]
    }
   ],
   "source": [
    "def hello():\n",
    "    print(\"Greetings, Everyone!\")\n",
    "\n",
    "hello()\n"
   ]
  },
  {
   "cell_type": "code",
   "execution_count": 5,
   "id": "d4d9fbc7-92e2-4d79-b748-8e6e2e9aceec",
   "metadata": {},
   "outputs": [
    {
     "name": "stdout",
     "output_type": "stream",
     "text": [
      "Welcome to the program of Harman!\n",
      "The sum of 6 and 3 is 9\n"
     ]
    }
   ],
   "source": [
    "def add_numbers():\n",
    "    num1 = 6\n",
    "    num2 = 3\n",
    "    result = num1 + num2\n",
    "    print(\"Welcome to the program of Harman!\")\n",
    "    print(f\"The sum of {num1} and {num2} is {result}\")\n",
    "\n",
    "add_numbers()\n"
   ]
  },
  {
   "cell_type": "code",
   "execution_count": 7,
   "id": "febb3370-ddca-42e5-a6d6-9776b5bfc447",
   "metadata": {},
   "outputs": [
    {
     "name": "stdout",
     "output_type": "stream",
     "text": [
      "Hello, Matia!\n",
      "Hello, Manraj!\n"
     ]
    }
   ],
   "source": [
    "def greet_user(name):\n",
    "    print(f\"Hello, {name}!\")\n",
    "\n",
    "greet_user(\"Matia\")\n",
    "greet_user(\"Manraj\")"
   ]
  },
  {
   "cell_type": "code",
   "execution_count": 9,
   "id": "a84dc32f-3de2-4dda-a7a4-a39677e4a2b5",
   "metadata": {},
   "outputs": [
    {
     "name": "stdout",
     "output_type": "stream",
     "text": [
      "The sum is 31\n"
     ]
    }
   ],
   "source": [
    "def add_numbers(a, b):\n",
    "    return a + b\n",
    "\n",
    "result = add_numbers(15, 16)\n",
    "print(f\"The sum is {result}\")\n"
   ]
  },
  {
   "cell_type": "code",
   "execution_count": 11,
   "id": "078ab701-6f5a-4e34-aa28-63819678db3c",
   "metadata": {},
   "outputs": [
    {
     "name": "stdout",
     "output_type": "stream",
     "text": [
      "The global variable is 15\n"
     ]
    }
   ],
   "source": [
    "global_var = 15\n",
    "\n",
    "def print_global():\n",
    "    print(f\"The global variable is {global_var}\")\n",
    "\n",
    "print_global()\n"
   ]
  },
  {
   "cell_type": "code",
   "execution_count": 15,
   "id": "37bb7cfc-6dc5-42ee-9312-f31b7d0cb4df",
   "metadata": {},
   "outputs": [
    {
     "name": "stdout",
     "output_type": "stream",
     "text": [
      "The global variable is now 50\n"
     ]
    }
   ],
   "source": [
    "global_var = 20\n",
    "\n",
    "def set_global_var(value):\n",
    "    global global_var\n",
    "    global_var = value\n",
    "\n",
    "def print_global_var():\n",
    "    print(f\"The global variable is now {global_var}\")\n",
    "\n",
    "set_global_var(50)\n",
    "print_global_var()\n"
   ]
  },
  {
   "cell_type": "code",
   "execution_count": 16,
   "id": "7cc55642-f578-452c-979a-d07518563922",
   "metadata": {},
   "outputs": [
    {
     "name": "stdout",
     "output_type": "stream",
     "text": [
      "The result of adding and then multiplying is 20\n"
     ]
    }
   ],
   "source": [
    "def add(a, b):\n",
    "    return a + b\n",
    "\n",
    "def multiply(a, b):\n",
    "    return a * b\n",
    "\n",
    "def add_and_multiply(x, y, z):\n",
    "    sum_result = add(x, y)\n",
    "    multiply_result = multiply(sum_result, z)\n",
    "    return multiply_result\n",
    "\n",
    "result = add_and_multiply(2, 3, 4)\n",
    "print(f\"The result of adding and then multiplying is {result}\")\n"
   ]
  },
  {
   "cell_type": "code",
   "execution_count": null,
   "id": "bec3d537-d960-4bfd-b02e-67f7c9595b79",
   "metadata": {},
   "outputs": [],
   "source": []
  }
 ],
 "metadata": {
  "kernelspec": {
   "display_name": "Python 3 (ipykernel)",
   "language": "python",
   "name": "python3"
  },
  "language_info": {
   "codemirror_mode": {
    "name": "ipython",
    "version": 3
   },
   "file_extension": ".py",
   "mimetype": "text/x-python",
   "name": "python",
   "nbconvert_exporter": "python",
   "pygments_lexer": "ipython3",
   "version": "3.12.7"
  }
 },
 "nbformat": 4,
 "nbformat_minor": 5
}
